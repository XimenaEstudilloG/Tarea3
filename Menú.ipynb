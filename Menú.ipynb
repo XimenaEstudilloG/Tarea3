{
  "nbformat": 4,
  "nbformat_minor": 0,
  "metadata": {
    "colab": {
      "name": "Menú.ipynb",
      "provenance": [],
      "collapsed_sections": []
    },
    "kernelspec": {
      "name": "python3",
      "display_name": "Python 3"
    },
    "language_info": {
      "name": "python"
    }
  },
  "cells": [
    {
      "cell_type": "code",
      "metadata": {
        "colab": {
          "base_uri": "https://localhost:8080/"
        },
        "id": "9pMpsyNqMZkn",
        "outputId": "0c2c02ec-25b9-469a-c39f-d920f93fdddd"
      },
      "source": [
        "menu_select = {\"mesa\" : 3 , \"comensal\" : 2 , \"entrada\" : \"Ensalada verde\" , \"fuerte\" : \"Filete\" , \"adicionales\" : \"Filete término medio, la ensalada sin ningun tipo de semilla, Aderezo Ranch\"}\n",
        "print(menu_select)\n",
        "\n",
        "print(\"------------\")\n",
        "print(\"\\n\\nDetalle:\")\n",
        "menu = {\n",
        "    \"Mesa\" : {\"Mesas\" : [\"1\", \"2\", \"3\", \"4\", \"5\", \"6\", \"7\", \"8\", \"9\", \"10\"]} ,\n",
        "    \"Comensal\" : {\"Comensales_cantidad\" : [\"1\", \"2\", \"3\", \"4\", \"5\"]} ,\n",
        "    \"Platillo de entrada\" : [\"Ensalada verde\", \"Crema de brocoli\", \"Sopa azteca\", \"Verduras al vapor\", \"Coliflor con queso\", \"Sopa de lentejas\", \"Tacos de lechuga con atún\"] ,\n",
        "    \"Platillo medio\" : [\"Espaguetti verde\", \"Sopa de codito(fría)\", \"Crema de zanahoria\", \"Crema de champiñones\", \"Sopa de tornillo on tocino\", \"Macarrón con queso mozarella\", \"Espaguetti a la boloñesa\", \"Arroz del día\"] ,\n",
        "    \"Platillo fuerte\" : [\"Pechuga rellena con verduras\", \"Camarones al lajillo\", \"Albondigas  de chipotle rellenas de queso Philadelphia\", \"Crepas de avena rellenas de atún\", \"Mole verde\", \"Res en chile morita\", \"Filete\", \"Pechuga con papas fritas\"] ,}\n",
        " \n",
        "\n",
        "print(f\" \\t\\tMESA: {menu['Mesa']['Mesas'][2]}\")\n",
        "print(f\" \\t\\tCOMENSAL: {menu['Comensal']['Comensales_cantidad'][1]}\")\n",
        "print(f\" \\t\\tENTRADA: {menu['Platillo de entrada'][0]}\")\n",
        "print(f\" \\t\\tMEDIO: {menu['Platillo medio'][2]}\")\n",
        "print(f\" \\t\\tFUERTE: {menu['Platillo fuerte'][6]}\")\n",
        "print(\"\\t\\tADICIONALES: Filete termino medio, la ensalada sin ningun tipo de semilla, aderezo Ranch.\" )\n",
        "print(\"\\n¡Que tenga buen provecho, disfrutelo!\")\n",
        "\n",
        "\n",
        "\n",
        "\n"
      ],
      "execution_count": 58,
      "outputs": [
        {
          "output_type": "stream",
          "name": "stdout",
          "text": [
            "{'mesa': 3, 'comensal': 2, 'entrada': 'Ensalada verde', 'fuerte': 'Filete', 'adicionales': 'Filete término medio, la ensalada sin ningun tipo de semilla, Aderezo Ranch'}\n",
            "------------\n",
            "\n",
            "\n",
            "Detalle:\n",
            " \t\tMESA: 3\n",
            " \t\tCOMENSAL: 2\n",
            " \t\tENTRADA: Ensalada verde\n",
            " \t\tMEDIO: Crema de zanahoria\n",
            " \t\tFUERTE: Filete\n",
            "\t\tADICIONALES: Filete termino medio, la ensalada sin ningun tipo de semilla, aderezo Ranch.\n",
            "\n",
            "¡Que tenga buen provecho, disfrutelo!\n"
          ]
        }
      ]
    }
  ]
}